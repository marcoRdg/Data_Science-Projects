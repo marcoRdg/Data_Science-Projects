{
 "cells": [
  {
   "cell_type": "markdown",
   "id": "3f0aa1e5-3557-419c-bc13-b4895be1ef77",
   "metadata": {
    "tags": []
   },
   "source": [
    "# Análise da relação entre os jogos da plataforma Steam e sua repercusão na plataforma de streaming Twitch\n",
    "\n",
    "## Descrição:\n",
    "\n",
    "Nesta projeto apuramos informações retiradas do site TwitchMetric e SteamDB para verificar correlaçõs entre os jogos da Steam e as suas performances na plataforma de streaming Twitch.\n"
   ]
  },
  {
   "cell_type": "code",
   "execution_count": 1,
   "id": "63a25558-99a5-4e0f-b4fa-32a6b3c45427",
   "metadata": {
    "tags": []
   },
   "outputs": [],
   "source": [
    "import pandas as pd\n",
    "import numpy as np\n",
    "import math\n",
    "import matplotlib.pyplot as plt\n",
    "%matplotlib inline\n",
    "\n",
    "import warnings\n",
    "\n",
    "# Desabilitar os avisos de depreciação\n",
    "warnings.filterwarnings('ignore', category=DeprecationWarning)"
   ]
  },
  {
   "cell_type": "code",
   "execution_count": 2,
   "id": "48286737-a00b-41b5-a49f-c1134a9df9a5",
   "metadata": {
    "tags": []
   },
   "outputs": [],
   "source": [
    "from library.conexao import Scraper\n",
    "conexao = Scraper()\n",
    "df_steam = conexao.get_dados_steam()\n",
    "df_twitch = conexao.get_dados_twitch()\n",
    "conexao.fechar_navegador()"
   ]
  },
  {
   "cell_type": "markdown",
   "id": "487e7d35-1689-4217-b785-1c64b27c9bf7",
   "metadata": {},
   "source": [
    "### **Análise e Limpesa do Dados Twitch**"
   ]
  },
  {
   "cell_type": "code",
   "execution_count": 3,
   "id": "ad51e099-5d81-4615-99b7-a7269d31d6fa",
   "metadata": {
    "tags": []
   },
   "outputs": [
    {
     "data": {
      "text/html": [
       "<div>\n",
       "<style scoped>\n",
       "    .dataframe tbody tr th:only-of-type {\n",
       "        vertical-align: middle;\n",
       "    }\n",
       "\n",
       "    .dataframe tbody tr th {\n",
       "        vertical-align: top;\n",
       "    }\n",
       "\n",
       "    .dataframe thead th {\n",
       "        text-align: right;\n",
       "    }\n",
       "</style>\n",
       "<table border=\"1\" class=\"dataframe\">\n",
       "  <thead>\n",
       "    <tr style=\"text-align: right;\">\n",
       "      <th></th>\n",
       "      <th>Jogo</th>\n",
       "      <th>Viewer Hours</th>\n",
       "      <th>Avg Live Channels</th>\n",
       "      <th>Peak Viewers</th>\n",
       "      <th>Avg Viewers</th>\n",
       "    </tr>\n",
       "  </thead>\n",
       "  <tbody>\n",
       "    <tr>\n",
       "      <th>0</th>\n",
       "      <td>Just Chatting</td>\n",
       "      <td>273771477.0</td>\n",
       "      <td>1459.0</td>\n",
       "      <td>879985.0</td>\n",
       "      <td>380414.0</td>\n",
       "    </tr>\n",
       "    <tr>\n",
       "      <th>1</th>\n",
       "      <td>Grand Theft Auto V</td>\n",
       "      <td>125977774.0</td>\n",
       "      <td>712.0</td>\n",
       "      <td>443595.0</td>\n",
       "      <td>175050.0</td>\n",
       "    </tr>\n",
       "    <tr>\n",
       "      <th>2</th>\n",
       "      <td>League of Legends</td>\n",
       "      <td>99889178.0</td>\n",
       "      <td>495.0</td>\n",
       "      <td>441597.0</td>\n",
       "      <td>138799.0</td>\n",
       "    </tr>\n",
       "    <tr>\n",
       "      <th>3</th>\n",
       "      <td>VALORANT</td>\n",
       "      <td>82798065.0</td>\n",
       "      <td>700.0</td>\n",
       "      <td>363995.0</td>\n",
       "      <td>115077.0</td>\n",
       "    </tr>\n",
       "    <tr>\n",
       "      <th>4</th>\n",
       "      <td>Dota 2</td>\n",
       "      <td>47381569.0</td>\n",
       "      <td>146.0</td>\n",
       "      <td>343928.0</td>\n",
       "      <td>65884.0</td>\n",
       "    </tr>\n",
       "  </tbody>\n",
       "</table>\n",
       "</div>"
      ],
      "text/plain": [
       "                 Jogo  Viewer Hours  Avg Live Channels  Peak Viewers  \\\n",
       "0       Just Chatting   273771477.0             1459.0      879985.0   \n",
       "1  Grand Theft Auto V   125977774.0              712.0      443595.0   \n",
       "2   League of Legends    99889178.0              495.0      441597.0   \n",
       "3            VALORANT    82798065.0              700.0      363995.0   \n",
       "4              Dota 2    47381569.0              146.0      343928.0   \n",
       "\n",
       "   Avg Viewers  \n",
       "0     380414.0  \n",
       "1     175050.0  \n",
       "2     138799.0  \n",
       "3     115077.0  \n",
       "4      65884.0  "
      ]
     },
     "execution_count": 3,
     "metadata": {},
     "output_type": "execute_result"
    }
   ],
   "source": [
    "df_twitch.head()"
   ]
  },
  {
   "cell_type": "code",
   "execution_count": 4,
   "id": "abc2e81d-db30-495a-a8e1-e3dc858cd9dd",
   "metadata": {
    "tags": []
   },
   "outputs": [
    {
     "data": {
      "text/plain": [
       "Jogo                  object\n",
       "Viewer Hours         float64\n",
       "Avg Live Channels    float64\n",
       "Peak Viewers         float64\n",
       "Avg Viewers          float64\n",
       "dtype: object"
      ]
     },
     "execution_count": 4,
     "metadata": {},
     "output_type": "execute_result"
    }
   ],
   "source": [
    "df_twitch.dtypes"
   ]
  },
  {
   "cell_type": "code",
   "execution_count": 5,
   "id": "25df1ddd-9771-4c75-b866-7fc539c76262",
   "metadata": {
    "tags": []
   },
   "outputs": [
    {
     "name": "stdout",
     "output_type": "stream",
     "text": [
      "<class 'pandas.core.frame.DataFrame'>\n",
      "RangeIndex: 100 entries, 0 to 99\n",
      "Data columns (total 5 columns):\n",
      " #   Column             Non-Null Count  Dtype  \n",
      "---  ------             --------------  -----  \n",
      " 0   Jogo               100 non-null    object \n",
      " 1   Viewer Hours       50 non-null     float64\n",
      " 2   Avg Live Channels  50 non-null     float64\n",
      " 3   Peak Viewers       50 non-null     float64\n",
      " 4   Avg Viewers        50 non-null     float64\n",
      "dtypes: float64(4), object(1)\n",
      "memory usage: 4.0+ KB\n"
     ]
    }
   ],
   "source": [
    "df_twitch.info()"
   ]
  },
  {
   "cell_type": "code",
   "execution_count": 6,
   "id": "06607f0f-8673-4359-b179-464c773f38c3",
   "metadata": {
    "tags": []
   },
   "outputs": [],
   "source": [
    "#df_twitch.fillna(0, inplace=True)\n",
    "#df_twitch = df_twitch.dropna()"
   ]
  },
  {
   "cell_type": "code",
   "execution_count": 7,
   "id": "60457738-3d3a-466f-ae51-f1391c054fad",
   "metadata": {
    "tags": []
   },
   "outputs": [],
   "source": [
    "#df_twitch.iloc[:,1:]=df_twitch.iloc[:, 1:].apply(lambda x: pd.to_numeric(x.str.replace(',', '')))\n",
    "#df_twitch.head(5)"
   ]
  },
  {
   "cell_type": "code",
   "execution_count": 8,
   "id": "aaf499ab-d6b4-4946-8a2c-7bee112ff4dd",
   "metadata": {
    "tags": []
   },
   "outputs": [
    {
     "data": {
      "text/html": [
       "<div>\n",
       "<style scoped>\n",
       "    .dataframe tbody tr th:only-of-type {\n",
       "        vertical-align: middle;\n",
       "    }\n",
       "\n",
       "    .dataframe tbody tr th {\n",
       "        vertical-align: top;\n",
       "    }\n",
       "\n",
       "    .dataframe thead th {\n",
       "        text-align: right;\n",
       "    }\n",
       "</style>\n",
       "<table border=\"1\" class=\"dataframe\">\n",
       "  <thead>\n",
       "    <tr style=\"text-align: right;\">\n",
       "      <th></th>\n",
       "      <th>Jogo</th>\n",
       "      <th>Peak Viewers</th>\n",
       "    </tr>\n",
       "  </thead>\n",
       "  <tbody>\n",
       "    <tr>\n",
       "      <th>10</th>\n",
       "      <td>Special Events</td>\n",
       "      <td>3461621.0</td>\n",
       "    </tr>\n",
       "    <tr>\n",
       "      <th>0</th>\n",
       "      <td>Just Chatting</td>\n",
       "      <td>879985.0</td>\n",
       "    </tr>\n",
       "    <tr>\n",
       "      <th>1</th>\n",
       "      <td>Grand Theft Auto V</td>\n",
       "      <td>443595.0</td>\n",
       "    </tr>\n",
       "    <tr>\n",
       "      <th>2</th>\n",
       "      <td>League of Legends</td>\n",
       "      <td>441597.0</td>\n",
       "    </tr>\n",
       "    <tr>\n",
       "      <th>11</th>\n",
       "      <td>Apex Legends</td>\n",
       "      <td>437570.0</td>\n",
       "    </tr>\n",
       "  </tbody>\n",
       "</table>\n",
       "</div>"
      ],
      "text/plain": [
       "                  Jogo  Peak Viewers\n",
       "10      Special Events     3461621.0\n",
       "0        Just Chatting      879985.0\n",
       "1   Grand Theft Auto V      443595.0\n",
       "2    League of Legends      441597.0\n",
       "11        Apex Legends      437570.0"
      ]
     },
     "execution_count": 8,
     "metadata": {},
     "output_type": "execute_result"
    }
   ],
   "source": [
    "df_twitch[['Jogo','Peak Viewers']].sort_values(by=\"Peak Viewers\", ascending=False).head(5)"
   ]
  },
  {
   "cell_type": "code",
   "execution_count": 9,
   "id": "31c4da01-2eb0-415b-845d-0c8f249cafb5",
   "metadata": {
    "tags": []
   },
   "outputs": [
    {
     "data": {
      "text/html": [
       "<div>\n",
       "<style scoped>\n",
       "    .dataframe tbody tr th:only-of-type {\n",
       "        vertical-align: middle;\n",
       "    }\n",
       "\n",
       "    .dataframe tbody tr th {\n",
       "        vertical-align: top;\n",
       "    }\n",
       "\n",
       "    .dataframe thead th {\n",
       "        text-align: right;\n",
       "    }\n",
       "</style>\n",
       "<table border=\"1\" class=\"dataframe\">\n",
       "  <thead>\n",
       "    <tr style=\"text-align: right;\">\n",
       "      <th></th>\n",
       "      <th>Jogo</th>\n",
       "      <th>Viewer Hours</th>\n",
       "      <th>Avg Live Channels</th>\n",
       "      <th>Peak Viewers</th>\n",
       "      <th>Avg Viewers</th>\n",
       "    </tr>\n",
       "  </thead>\n",
       "  <tbody>\n",
       "    <tr>\n",
       "      <th>0</th>\n",
       "      <td>Just Chatting</td>\n",
       "      <td>273771477.0</td>\n",
       "      <td>1459.0</td>\n",
       "      <td>879985.0</td>\n",
       "      <td>380414.0</td>\n",
       "    </tr>\n",
       "    <tr>\n",
       "      <th>1</th>\n",
       "      <td>Grand Theft Auto V</td>\n",
       "      <td>125977774.0</td>\n",
       "      <td>712.0</td>\n",
       "      <td>443595.0</td>\n",
       "      <td>175050.0</td>\n",
       "    </tr>\n",
       "    <tr>\n",
       "      <th>3</th>\n",
       "      <td>VALORANT</td>\n",
       "      <td>82798065.0</td>\n",
       "      <td>700.0</td>\n",
       "      <td>363995.0</td>\n",
       "      <td>115077.0</td>\n",
       "    </tr>\n",
       "    <tr>\n",
       "      <th>2</th>\n",
       "      <td>League of Legends</td>\n",
       "      <td>99889178.0</td>\n",
       "      <td>495.0</td>\n",
       "      <td>441597.0</td>\n",
       "      <td>138799.0</td>\n",
       "    </tr>\n",
       "    <tr>\n",
       "      <th>9</th>\n",
       "      <td>Fortnite</td>\n",
       "      <td>30283837.0</td>\n",
       "      <td>438.0</td>\n",
       "      <td>155340.0</td>\n",
       "      <td>42100.0</td>\n",
       "    </tr>\n",
       "  </tbody>\n",
       "</table>\n",
       "</div>"
      ],
      "text/plain": [
       "                 Jogo  Viewer Hours  Avg Live Channels  Peak Viewers  \\\n",
       "0       Just Chatting   273771477.0             1459.0      879985.0   \n",
       "1  Grand Theft Auto V   125977774.0              712.0      443595.0   \n",
       "3            VALORANT    82798065.0              700.0      363995.0   \n",
       "2   League of Legends    99889178.0              495.0      441597.0   \n",
       "9            Fortnite    30283837.0              438.0      155340.0   \n",
       "\n",
       "   Avg Viewers  \n",
       "0     380414.0  \n",
       "1     175050.0  \n",
       "3     115077.0  \n",
       "2     138799.0  \n",
       "9      42100.0  "
      ]
     },
     "execution_count": 9,
     "metadata": {},
     "output_type": "execute_result"
    }
   ],
   "source": [
    "df_twitch.sort_values(by='Avg Live Channels', ascending=False).head(5)"
   ]
  },
  {
   "cell_type": "code",
   "execution_count": 10,
   "id": "24d916a4",
   "metadata": {},
   "outputs": [
    {
     "data": {
      "text/plain": [
       "<bound method NDFrame.head of                          Jogo  Viewer Hours  Avg Live Channels  Peak Viewers  \\\n",
       "0               Just Chatting   273771477.0             1459.0      879985.0   \n",
       "1          Grand Theft Auto V   125977774.0              712.0      443595.0   \n",
       "2           League of Legends    99889178.0              495.0      441597.0   \n",
       "3                    VALORANT    82798065.0              700.0      363995.0   \n",
       "4                      Dota 2    47381569.0              146.0      343928.0   \n",
       "..                        ...           ...                ...           ...   \n",
       "95                 Moth House           NaN                NaN           NaN   \n",
       "96                      Roots           NaN                NaN           NaN   \n",
       "97        Master of the Lamps           NaN                NaN           NaN   \n",
       "98  3D BILLARD Pool & Snooker           NaN                NaN           NaN   \n",
       "99                Terminal 81           NaN                NaN           NaN   \n",
       "\n",
       "    Avg Viewers  \n",
       "0      380414.0  \n",
       "1      175050.0  \n",
       "2      138799.0  \n",
       "3      115077.0  \n",
       "4       65884.0  \n",
       "..          ...  \n",
       "95      17976.0  \n",
       "96      17745.0  \n",
       "97      17312.0  \n",
       "98      16768.0  \n",
       "99      16670.0  \n",
       "\n",
       "[100 rows x 5 columns]>"
      ]
     },
     "execution_count": 10,
     "metadata": {},
     "output_type": "execute_result"
    }
   ],
   "source": [
    "df_twitch.head"
   ]
  },
  {
   "cell_type": "code",
   "execution_count": 11,
   "id": "1606d50c-e8ea-4c1c-8293-21e7d4fc60e2",
   "metadata": {
    "tags": []
   },
   "outputs": [
    {
     "name": "stdout",
     "output_type": "stream",
     "text": [
      "Correlação - médias canais para média de viewers 0.9386980986923289\n",
      "Correlação - pico para média de viewers 0.8425827542523214\n"
     ]
    }
   ],
   "source": [
    "print(\"Correlação - médias canais para média de viewers\",(df_twitch['Avg Live Channels'].astype(float)).corr(df_twitch['Avg Viewers']))\n",
    "print(\"Correlação - pico para média de viewers\",(df_twitch['Peak Viewers'].astype(float)).corr(df_twitch['Avg Live Channels']))"
   ]
  },
  {
   "cell_type": "code",
   "execution_count": 12,
   "id": "b6cde4f6-5ed6-4afd-bf45-446d1f9e3ce1",
   "metadata": {
    "tags": []
   },
   "outputs": [
    {
     "name": "stdout",
     "output_type": "stream",
     "text": [
      "[<matplotlib.lines.Line2D object at 0x000001D2195D6510>]\n"
     ]
    },
    {
     "data": {
      "image/png": "[encoded data removed]",
      "text/plain": [
       "<Figure size 640x480 with 1 Axes>"
      ]
     },
     "metadata": {},
     "output_type": "display_data"
    }
   ],
   "source": [
    "df = df_twitch.dropna()\n",
    "x = df['Avg Live Channels']\n",
    "y = df['Avg Viewers']\n",
    "\n",
    "plt.xlabel(\"Média de Lives\")\n",
    "plt.ylabel(\"Média Espectadores\")\n",
    "\n",
    "print(plt.plot(x,y,'.'))"
   ]
  },
  {
   "cell_type": "markdown",
   "id": "0b062a80",
   "metadata": {},
   "source": [
    "### **Análise Steam**"
   ]
  },
  {
   "cell_type": "code",
   "execution_count": 13,
   "id": "b5470461",
   "metadata": {},
   "outputs": [
    {
     "data": {
      "text/html": [
       "<div>\n",
       "<style scoped>\n",
       "    .dataframe tbody tr th:only-of-type {\n",
       "        vertical-align: middle;\n",
       "    }\n",
       "\n",
       "    .dataframe tbody tr th {\n",
       "        vertical-align: top;\n",
       "    }\n",
       "\n",
       "    .dataframe thead th {\n",
       "        text-align: right;\n",
       "    }\n",
       "</style>\n",
       "<table border=\"1\" class=\"dataframe\">\n",
       "  <thead>\n",
       "    <tr style=\"text-align: right;\">\n",
       "      <th></th>\n",
       "      <th>Jogo</th>\n",
       "      <th>jogadores_at_moment</th>\n",
       "      <th>24h_peek</th>\n",
       "      <th>all-time_peak</th>\n",
       "    </tr>\n",
       "  </thead>\n",
       "  <tbody>\n",
       "    <tr>\n",
       "      <th>0</th>\n",
       "      <td>Counter-Strike: Global Offensive</td>\n",
       "      <td>911200</td>\n",
       "      <td>1175999</td>\n",
       "      <td>1818773</td>\n",
       "    </tr>\n",
       "    <tr>\n",
       "      <th>1</th>\n",
       "      <td>Dota 2</td>\n",
       "      <td>411137</td>\n",
       "      <td>602377</td>\n",
       "      <td>1295114</td>\n",
       "    </tr>\n",
       "    <tr>\n",
       "      <th>2</th>\n",
       "      <td>Apex Legends</td>\n",
       "      <td>245408</td>\n",
       "      <td>351055</td>\n",
       "      <td>624473</td>\n",
       "    </tr>\n",
       "    <tr>\n",
       "      <th>3</th>\n",
       "      <td>PUBG: BATTLEGROUNDS</td>\n",
       "      <td>242667</td>\n",
       "      <td>344828</td>\n",
       "      <td>3257248</td>\n",
       "    </tr>\n",
       "    <tr>\n",
       "      <th>4</th>\n",
       "      <td>NARAKA: BLADEPOINT</td>\n",
       "      <td>155505</td>\n",
       "      <td>220109</td>\n",
       "      <td>264406</td>\n",
       "    </tr>\n",
       "  </tbody>\n",
       "</table>\n",
       "</div>"
      ],
      "text/plain": [
       "                               Jogo jogadores_at_moment 24h_peek all-time_peak\n",
       "0  Counter-Strike: Global Offensive              911200  1175999       1818773\n",
       "1                            Dota 2              411137   602377       1295114\n",
       "2                      Apex Legends              245408   351055        624473\n",
       "3               PUBG: BATTLEGROUNDS              242667   344828       3257248\n",
       "4                NARAKA: BLADEPOINT              155505   220109        264406"
      ]
     },
     "execution_count": 13,
     "metadata": {},
     "output_type": "execute_result"
    }
   ],
   "source": [
    "df_steam.head()"
   ]
  },
  {
   "cell_type": "code",
   "execution_count": 14,
   "id": "52f15451",
   "metadata": {},
   "outputs": [
    {
     "data": {
      "text/plain": [
       "Jogo                   object\n",
       "jogadores_at_moment    object\n",
       "24h_peek               object\n",
       "all-time_peak          object\n",
       "dtype: object"
      ]
     },
     "execution_count": 14,
     "metadata": {},
     "output_type": "execute_result"
    }
   ],
   "source": [
    "df_steam.dtypes"
   ]
  },
  {
   "cell_type": "code",
   "execution_count": 15,
   "id": "9d5ffdf0",
   "metadata": {},
   "outputs": [
    {
     "name": "stdout",
     "output_type": "stream",
     "text": [
      "<class 'pandas.core.frame.DataFrame'>\n",
      "RangeIndex: 100 entries, 0 to 99\n",
      "Data columns (total 4 columns):\n",
      " #   Column               Non-Null Count  Dtype \n",
      "---  ------               --------------  ----- \n",
      " 0   Jogo                 100 non-null    object\n",
      " 1   jogadores_at_moment  100 non-null    object\n",
      " 2   24h_peek             100 non-null    object\n",
      " 3   all-time_peak        100 non-null    object\n",
      "dtypes: object(4)\n",
      "memory usage: 3.3+ KB\n"
     ]
    }
   ],
   "source": [
    "df_steam.info()"
   ]
  },
  {
   "cell_type": "code",
   "execution_count": 16,
   "id": "44bea69e",
   "metadata": {},
   "outputs": [
    {
     "data": {
      "text/html": [
       "<div>\n",
       "<style scoped>\n",
       "    .dataframe tbody tr th:only-of-type {\n",
       "        vertical-align: middle;\n",
       "    }\n",
       "\n",
       "    .dataframe tbody tr th {\n",
       "        vertical-align: top;\n",
       "    }\n",
       "\n",
       "    .dataframe thead th {\n",
       "        text-align: right;\n",
       "    }\n",
       "</style>\n",
       "<table border=\"1\" class=\"dataframe\">\n",
       "  <thead>\n",
       "    <tr style=\"text-align: right;\">\n",
       "      <th></th>\n",
       "      <th>Jogo</th>\n",
       "      <th>jogadores_at_moment</th>\n",
       "      <th>24h_peek</th>\n",
       "      <th>all-time_peak</th>\n",
       "    </tr>\n",
       "  </thead>\n",
       "  <tbody>\n",
       "    <tr>\n",
       "      <th>0</th>\n",
       "      <td>Counter-Strike: Global Offensive</td>\n",
       "      <td>911200</td>\n",
       "      <td>1175999</td>\n",
       "      <td>1818773</td>\n",
       "    </tr>\n",
       "    <tr>\n",
       "      <th>1</th>\n",
       "      <td>Dota 2</td>\n",
       "      <td>411137</td>\n",
       "      <td>602377</td>\n",
       "      <td>1295114</td>\n",
       "    </tr>\n",
       "    <tr>\n",
       "      <th>2</th>\n",
       "      <td>Apex Legends</td>\n",
       "      <td>245408</td>\n",
       "      <td>351055</td>\n",
       "      <td>624473</td>\n",
       "    </tr>\n",
       "    <tr>\n",
       "      <th>3</th>\n",
       "      <td>PUBG: BATTLEGROUNDS</td>\n",
       "      <td>242667</td>\n",
       "      <td>344828</td>\n",
       "      <td>3257248</td>\n",
       "    </tr>\n",
       "    <tr>\n",
       "      <th>4</th>\n",
       "      <td>NARAKA: BLADEPOINT</td>\n",
       "      <td>155505</td>\n",
       "      <td>220109</td>\n",
       "      <td>264406</td>\n",
       "    </tr>\n",
       "  </tbody>\n",
       "</table>\n",
       "</div>"
      ],
      "text/plain": [
       "                               Jogo jogadores_at_moment 24h_peek all-time_peak\n",
       "0  Counter-Strike: Global Offensive              911200  1175999       1818773\n",
       "1                            Dota 2              411137   602377       1295114\n",
       "2                      Apex Legends              245408   351055        624473\n",
       "3               PUBG: BATTLEGROUNDS              242667   344828       3257248\n",
       "4                NARAKA: BLADEPOINT              155505   220109        264406"
      ]
     },
     "execution_count": 16,
     "metadata": {},
     "output_type": "execute_result"
    }
   ],
   "source": [
    "#df_steam.iloc[:, 1:] = df_steam.iloc[:, 1:].apply(lambda x: pd.to_numeric(x.str.replace(',', '')))\n",
    "df_steam.head()"
   ]
  },
  {
   "cell_type": "code",
   "execution_count": 17,
   "id": "153339e9",
   "metadata": {},
   "outputs": [
    {
     "data": {
      "text/html": [
       "<div>\n",
       "<style scoped>\n",
       "    .dataframe tbody tr th:only-of-type {\n",
       "        vertical-align: middle;\n",
       "    }\n",
       "\n",
       "    .dataframe tbody tr th {\n",
       "        vertical-align: top;\n",
       "    }\n",
       "\n",
       "    .dataframe thead th {\n",
       "        text-align: right;\n",
       "    }\n",
       "</style>\n",
       "<table border=\"1\" class=\"dataframe\">\n",
       "  <thead>\n",
       "    <tr style=\"text-align: right;\">\n",
       "      <th></th>\n",
       "      <th>Jogo</th>\n",
       "      <th>jogadores_at_moment</th>\n",
       "      <th>24h_peek</th>\n",
       "      <th>all-time_peak</th>\n",
       "    </tr>\n",
       "  </thead>\n",
       "  <tbody>\n",
       "    <tr>\n",
       "      <th>0</th>\n",
       "      <td>Counter-Strike: Global Offensive</td>\n",
       "      <td>911200</td>\n",
       "      <td>1175999</td>\n",
       "      <td>1818773</td>\n",
       "    </tr>\n",
       "    <tr>\n",
       "      <th>1</th>\n",
       "      <td>Dota 2</td>\n",
       "      <td>411137</td>\n",
       "      <td>602377</td>\n",
       "      <td>1295114</td>\n",
       "    </tr>\n",
       "    <tr>\n",
       "      <th>2</th>\n",
       "      <td>Apex Legends</td>\n",
       "      <td>245408</td>\n",
       "      <td>351055</td>\n",
       "      <td>624473</td>\n",
       "    </tr>\n",
       "    <tr>\n",
       "      <th>3</th>\n",
       "      <td>PUBG: BATTLEGROUNDS</td>\n",
       "      <td>242667</td>\n",
       "      <td>344828</td>\n",
       "      <td>3257248</td>\n",
       "    </tr>\n",
       "    <tr>\n",
       "      <th>4</th>\n",
       "      <td>NARAKA: BLADEPOINT</td>\n",
       "      <td>155505</td>\n",
       "      <td>220109</td>\n",
       "      <td>264406</td>\n",
       "    </tr>\n",
       "    <tr>\n",
       "      <th>...</th>\n",
       "      <td>...</td>\n",
       "      <td>...</td>\n",
       "      <td>...</td>\n",
       "      <td>...</td>\n",
       "    </tr>\n",
       "    <tr>\n",
       "      <th>96</th>\n",
       "      <td>World of Warships</td>\n",
       "      <td>8520</td>\n",
       "      <td>12997</td>\n",
       "      <td>411338</td>\n",
       "    </tr>\n",
       "    <tr>\n",
       "      <th>88</th>\n",
       "      <td>Battlefield 1 ™</td>\n",
       "      <td>9575</td>\n",
       "      <td>12739</td>\n",
       "      <td>53714</td>\n",
       "    </tr>\n",
       "    <tr>\n",
       "      <th>89</th>\n",
       "      <td>Slay the Spire</td>\n",
       "      <td>9210</td>\n",
       "      <td>11844</td>\n",
       "      <td>33086</td>\n",
       "    </tr>\n",
       "    <tr>\n",
       "      <th>85</th>\n",
       "      <td>Oxygen Not Included</td>\n",
       "      <td>9979</td>\n",
       "      <td>11545</td>\n",
       "      <td>27486</td>\n",
       "    </tr>\n",
       "    <tr>\n",
       "      <th>93</th>\n",
       "      <td>Russian Fishing 4</td>\n",
       "      <td>8851</td>\n",
       "      <td>11441</td>\n",
       "      <td>14560</td>\n",
       "    </tr>\n",
       "  </tbody>\n",
       "</table>\n",
       "<p>100 rows × 4 columns</p>\n",
       "</div>"
      ],
      "text/plain": [
       "                                Jogo jogadores_at_moment 24h_peek  \\\n",
       "0   Counter-Strike: Global Offensive              911200  1175999   \n",
       "1                             Dota 2              411137   602377   \n",
       "2                       Apex Legends              245408   351055   \n",
       "3                PUBG: BATTLEGROUNDS              242667   344828   \n",
       "4                 NARAKA: BLADEPOINT              155505   220109   \n",
       "..                               ...                 ...      ...   \n",
       "96                 World of Warships                8520    12997   \n",
       "88                   Battlefield 1 ™                9575    12739   \n",
       "89                    Slay the Spire                9210    11844   \n",
       "85               Oxygen Not Included                9979    11545   \n",
       "93                 Russian Fishing 4                8851    11441   \n",
       "\n",
       "   all-time_peak  \n",
       "0        1818773  \n",
       "1        1295114  \n",
       "2         624473  \n",
       "3        3257248  \n",
       "4         264406  \n",
       "..           ...  \n",
       "96        411338  \n",
       "88         53714  \n",
       "89         33086  \n",
       "85         27486  \n",
       "93         14560  \n",
       "\n",
       "[100 rows x 4 columns]"
      ]
     },
     "execution_count": 17,
     "metadata": {},
     "output_type": "execute_result"
    }
   ],
   "source": [
    "df_steam.sort_values(by=\"24h_peek\", ascending=False)"
   ]
  },
  {
   "cell_type": "code",
   "execution_count": 18,
   "id": "9e87c494",
   "metadata": {},
   "outputs": [
    {
     "name": "stdout",
     "output_type": "stream",
     "text": [
      "Maior Pico Total de Jogadores:  6203968\n"
     ]
    }
   ],
   "source": [
    "print(\"Maior Pico Total de Jogadores: \",df_steam['24h_peek'].sum())"
   ]
  },
  {
   "cell_type": "markdown",
   "id": "6aae0154",
   "metadata": {},
   "source": [
    " Efetuando mesclagem das duas tabelas pela Nome"
   ]
  },
  {
   "cell_type": "code",
   "execution_count": 19,
   "id": "8f8de11d",
   "metadata": {},
   "outputs": [
    {
     "data": {
      "text/html": [
       "<div>\n",
       "<style scoped>\n",
       "    .dataframe tbody tr th:only-of-type {\n",
       "        vertical-align: middle;\n",
       "    }\n",
       "\n",
       "    .dataframe tbody tr th {\n",
       "        vertical-align: top;\n",
       "    }\n",
       "\n",
       "    .dataframe thead th {\n",
       "        text-align: right;\n",
       "    }\n",
       "</style>\n",
       "<table border=\"1\" class=\"dataframe\">\n",
       "  <thead>\n",
       "    <tr style=\"text-align: right;\">\n",
       "      <th></th>\n",
       "      <th>Jogo</th>\n",
       "      <th>Viewer Hours</th>\n",
       "      <th>Avg Live Channels</th>\n",
       "      <th>Peak Viewers</th>\n",
       "      <th>Avg Viewers</th>\n",
       "      <th>jogadores_at_moment</th>\n",
       "      <th>24h_peek</th>\n",
       "      <th>all-time_peak</th>\n",
       "    </tr>\n",
       "  </thead>\n",
       "  <tbody>\n",
       "    <tr>\n",
       "      <th>0</th>\n",
       "      <td>Grand Theft Auto V</td>\n",
       "      <td>125977774.0</td>\n",
       "      <td>712.0</td>\n",
       "      <td>443595.0</td>\n",
       "      <td>175050.0</td>\n",
       "      <td>121265</td>\n",
       "      <td>172179</td>\n",
       "      <td>364548</td>\n",
       "    </tr>\n",
       "    <tr>\n",
       "      <th>1</th>\n",
       "      <td>Dota 2</td>\n",
       "      <td>47381569.0</td>\n",
       "      <td>146.0</td>\n",
       "      <td>343928.0</td>\n",
       "      <td>65884.0</td>\n",
       "      <td>411137</td>\n",
       "      <td>602377</td>\n",
       "      <td>1295114</td>\n",
       "    </tr>\n",
       "    <tr>\n",
       "      <th>2</th>\n",
       "      <td>Counter-Strike: Global Offensive</td>\n",
       "      <td>45928135.0</td>\n",
       "      <td>222.0</td>\n",
       "      <td>401070.0</td>\n",
       "      <td>63848.0</td>\n",
       "      <td>911200</td>\n",
       "      <td>1175999</td>\n",
       "      <td>1818773</td>\n",
       "    </tr>\n",
       "    <tr>\n",
       "      <th>3</th>\n",
       "      <td>Apex Legends</td>\n",
       "      <td>29694408.0</td>\n",
       "      <td>274.0</td>\n",
       "      <td>437570.0</td>\n",
       "      <td>41290.0</td>\n",
       "      <td>245408</td>\n",
       "      <td>351055</td>\n",
       "      <td>624473</td>\n",
       "    </tr>\n",
       "    <tr>\n",
       "      <th>4</th>\n",
       "      <td>Dead by Daylight</td>\n",
       "      <td>16208206.0</td>\n",
       "      <td>355.0</td>\n",
       "      <td>NaN</td>\n",
       "      <td>22537.0</td>\n",
       "      <td>33748</td>\n",
       "      <td>49479</td>\n",
       "      <td>105093</td>\n",
       "    </tr>\n",
       "    <tr>\n",
       "      <th>5</th>\n",
       "      <td>Black Desert</td>\n",
       "      <td>12941634.0</td>\n",
       "      <td>94.0</td>\n",
       "      <td>NaN</td>\n",
       "      <td>17995.0</td>\n",
       "      <td>22113</td>\n",
       "      <td>29874</td>\n",
       "      <td>60395</td>\n",
       "    </tr>\n",
       "    <tr>\n",
       "      <th>6</th>\n",
       "      <td>Rust</td>\n",
       "      <td>10775615.0</td>\n",
       "      <td>83.0</td>\n",
       "      <td>92841.0</td>\n",
       "      <td>NaN</td>\n",
       "      <td>71116</td>\n",
       "      <td>120435</td>\n",
       "      <td>245243</td>\n",
       "    </tr>\n",
       "    <tr>\n",
       "      <th>7</th>\n",
       "      <td>Rocket League</td>\n",
       "      <td>8867450.0</td>\n",
       "      <td>81.0</td>\n",
       "      <td>290895.0</td>\n",
       "      <td>NaN</td>\n",
       "      <td>12982</td>\n",
       "      <td>38327</td>\n",
       "      <td>147632</td>\n",
       "    </tr>\n",
       "    <tr>\n",
       "      <th>8</th>\n",
       "      <td>BattleBit Remastered</td>\n",
       "      <td>8687219.0</td>\n",
       "      <td>57.0</td>\n",
       "      <td>82741.0</td>\n",
       "      <td>NaN</td>\n",
       "      <td>23417</td>\n",
       "      <td>40168</td>\n",
       "      <td>87323</td>\n",
       "    </tr>\n",
       "    <tr>\n",
       "      <th>9</th>\n",
       "      <td>PUBG: BATTLEGROUNDS</td>\n",
       "      <td>6928710.0</td>\n",
       "      <td>86.0</td>\n",
       "      <td>88724.0</td>\n",
       "      <td>NaN</td>\n",
       "      <td>242667</td>\n",
       "      <td>344828</td>\n",
       "      <td>3257248</td>\n",
       "    </tr>\n",
       "    <tr>\n",
       "      <th>10</th>\n",
       "      <td>Albion Online</td>\n",
       "      <td>6696952.0</td>\n",
       "      <td>54.0</td>\n",
       "      <td>NaN</td>\n",
       "      <td>NaN</td>\n",
       "      <td>9805</td>\n",
       "      <td>14273</td>\n",
       "      <td>26148</td>\n",
       "    </tr>\n",
       "    <tr>\n",
       "      <th>11</th>\n",
       "      <td>Lost Ark</td>\n",
       "      <td>6453659.0</td>\n",
       "      <td>76.0</td>\n",
       "      <td>170224.0</td>\n",
       "      <td>NaN</td>\n",
       "      <td>17165</td>\n",
       "      <td>29432</td>\n",
       "      <td>1325305</td>\n",
       "    </tr>\n",
       "    <tr>\n",
       "      <th>12</th>\n",
       "      <td>Remnant II</td>\n",
       "      <td>6006416.0</td>\n",
       "      <td>123.0</td>\n",
       "      <td>98163.0</td>\n",
       "      <td>33400.0</td>\n",
       "      <td>78839</td>\n",
       "      <td>96836</td>\n",
       "      <td>96836</td>\n",
       "    </tr>\n",
       "    <tr>\n",
       "      <th>13</th>\n",
       "      <td>Tom Clancy's Rainbow Six Siege</td>\n",
       "      <td>5681404.0</td>\n",
       "      <td>66.0</td>\n",
       "      <td>NaN</td>\n",
       "      <td>NaN</td>\n",
       "      <td>43408</td>\n",
       "      <td>65799</td>\n",
       "      <td>201053</td>\n",
       "    </tr>\n",
       "    <tr>\n",
       "      <th>14</th>\n",
       "      <td>ARK: Survival Evolved</td>\n",
       "      <td>4966596.0</td>\n",
       "      <td>NaN</td>\n",
       "      <td>95537.0</td>\n",
       "      <td>NaN</td>\n",
       "      <td>44304</td>\n",
       "      <td>58949</td>\n",
       "      <td>248405</td>\n",
       "    </tr>\n",
       "    <tr>\n",
       "      <th>15</th>\n",
       "      <td>DayZ</td>\n",
       "      <td>4367952.0</td>\n",
       "      <td>51.0</td>\n",
       "      <td>NaN</td>\n",
       "      <td>NaN</td>\n",
       "      <td>26399</td>\n",
       "      <td>49444</td>\n",
       "      <td>63046</td>\n",
       "    </tr>\n",
       "    <tr>\n",
       "      <th>16</th>\n",
       "      <td>Hunt: Showdown</td>\n",
       "      <td>NaN</td>\n",
       "      <td>74.0</td>\n",
       "      <td>NaN</td>\n",
       "      <td>NaN</td>\n",
       "      <td>17272</td>\n",
       "      <td>31451</td>\n",
       "      <td>45091</td>\n",
       "    </tr>\n",
       "    <tr>\n",
       "      <th>17</th>\n",
       "      <td>Destiny 2</td>\n",
       "      <td>NaN</td>\n",
       "      <td>74.0</td>\n",
       "      <td>NaN</td>\n",
       "      <td>NaN</td>\n",
       "      <td>37565</td>\n",
       "      <td>50738</td>\n",
       "      <td>316750</td>\n",
       "    </tr>\n",
       "    <tr>\n",
       "      <th>18</th>\n",
       "      <td>Red Dead Redemption 2</td>\n",
       "      <td>NaN</td>\n",
       "      <td>55.0</td>\n",
       "      <td>NaN</td>\n",
       "      <td>NaN</td>\n",
       "      <td>36094</td>\n",
       "      <td>46217</td>\n",
       "      <td>70914</td>\n",
       "    </tr>\n",
       "    <tr>\n",
       "      <th>19</th>\n",
       "      <td>7 Days to Die</td>\n",
       "      <td>NaN</td>\n",
       "      <td>53.0</td>\n",
       "      <td>NaN</td>\n",
       "      <td>NaN</td>\n",
       "      <td>44651</td>\n",
       "      <td>60510</td>\n",
       "      <td>96827</td>\n",
       "    </tr>\n",
       "    <tr>\n",
       "      <th>20</th>\n",
       "      <td>VRChat</td>\n",
       "      <td>NaN</td>\n",
       "      <td>NaN</td>\n",
       "      <td>95617.0</td>\n",
       "      <td>NaN</td>\n",
       "      <td>30498</td>\n",
       "      <td>36771</td>\n",
       "      <td>46814</td>\n",
       "    </tr>\n",
       "  </tbody>\n",
       "</table>\n",
       "</div>"
      ],
      "text/plain": [
       "                                Jogo  Viewer Hours  Avg Live Channels  \\\n",
       "0                 Grand Theft Auto V   125977774.0              712.0   \n",
       "1                             Dota 2    47381569.0              146.0   \n",
       "2   Counter-Strike: Global Offensive    45928135.0              222.0   \n",
       "3                       Apex Legends    29694408.0              274.0   \n",
       "4                   Dead by Daylight    16208206.0              355.0   \n",
       "5                       Black Desert    12941634.0               94.0   \n",
       "6                               Rust    10775615.0               83.0   \n",
       "7                      Rocket League     8867450.0               81.0   \n",
       "8               BattleBit Remastered     8687219.0               57.0   \n",
       "9                PUBG: BATTLEGROUNDS     6928710.0               86.0   \n",
       "10                     Albion Online     6696952.0               54.0   \n",
       "11                          Lost Ark     6453659.0               76.0   \n",
       "12                        Remnant II     6006416.0              123.0   \n",
       "13    Tom Clancy's Rainbow Six Siege     5681404.0               66.0   \n",
       "14             ARK: Survival Evolved     4966596.0                NaN   \n",
       "15                              DayZ     4367952.0               51.0   \n",
       "16                    Hunt: Showdown           NaN               74.0   \n",
       "17                         Destiny 2           NaN               74.0   \n",
       "18             Red Dead Redemption 2           NaN               55.0   \n",
       "19                     7 Days to Die           NaN               53.0   \n",
       "20                            VRChat           NaN                NaN   \n",
       "\n",
       "    Peak Viewers  Avg Viewers jogadores_at_moment 24h_peek all-time_peak  \n",
       "0       443595.0     175050.0              121265   172179        364548  \n",
       "1       343928.0      65884.0              411137   602377       1295114  \n",
       "2       401070.0      63848.0              911200  1175999       1818773  \n",
       "3       437570.0      41290.0              245408   351055        624473  \n",
       "4            NaN      22537.0               33748    49479        105093  \n",
       "5            NaN      17995.0               22113    29874         60395  \n",
       "6        92841.0          NaN               71116   120435        245243  \n",
       "7       290895.0          NaN               12982    38327        147632  \n",
       "8        82741.0          NaN               23417    40168         87323  \n",
       "9        88724.0          NaN              242667   344828       3257248  \n",
       "10           NaN          NaN                9805    14273         26148  \n",
       "11      170224.0          NaN               17165    29432       1325305  \n",
       "12       98163.0      33400.0               78839    96836         96836  \n",
       "13           NaN          NaN               43408    65799        201053  \n",
       "14       95537.0          NaN               44304    58949        248405  \n",
       "15           NaN          NaN               26399    49444         63046  \n",
       "16           NaN          NaN               17272    31451         45091  \n",
       "17           NaN          NaN               37565    50738        316750  \n",
       "18           NaN          NaN               36094    46217         70914  \n",
       "19           NaN          NaN               44651    60510         96827  \n",
       "20       95617.0          NaN               30498    36771         46814  "
      ]
     },
     "execution_count": 19,
     "metadata": {},
     "output_type": "execute_result"
    }
   ],
   "source": [
    "df_merge = df_twitch.merge(df_steam,on='Jogo', how ='inner')\n",
    "df_merge"
   ]
  },
  {
   "cell_type": "markdown",
   "id": "aba6b99a",
   "metadata": {},
   "source": [
    "Quantos do TOP 10 das maiores categorias de Média de Lives estão nos mais jogados da Steam"
   ]
  },
  {
   "cell_type": "code",
   "execution_count": 20,
   "id": "459bc508",
   "metadata": {},
   "outputs": [
    {
     "data": {
      "text/html": [
       "<div>\n",
       "<style scoped>\n",
       "    .dataframe tbody tr th:only-of-type {\n",
       "        vertical-align: middle;\n",
       "    }\n",
       "\n",
       "    .dataframe tbody tr th {\n",
       "        vertical-align: top;\n",
       "    }\n",
       "\n",
       "    .dataframe thead th {\n",
       "        text-align: right;\n",
       "    }\n",
       "</style>\n",
       "<table border=\"1\" class=\"dataframe\">\n",
       "  <thead>\n",
       "    <tr style=\"text-align: right;\">\n",
       "      <th></th>\n",
       "      <th>Jogo</th>\n",
       "      <th>Viewer Hours</th>\n",
       "      <th>Avg Live Channels</th>\n",
       "      <th>Peak Viewers</th>\n",
       "      <th>Avg Viewers</th>\n",
       "      <th>jogadores_at_moment</th>\n",
       "      <th>24h_peek</th>\n",
       "      <th>all-time_peak</th>\n",
       "    </tr>\n",
       "  </thead>\n",
       "  <tbody>\n",
       "    <tr>\n",
       "      <th>0</th>\n",
       "      <td>Grand Theft Auto V</td>\n",
       "      <td>125977774.0</td>\n",
       "      <td>712.0</td>\n",
       "      <td>443595.0</td>\n",
       "      <td>175050.0</td>\n",
       "      <td>121265</td>\n",
       "      <td>172179</td>\n",
       "      <td>364548</td>\n",
       "    </tr>\n",
       "    <tr>\n",
       "      <th>1</th>\n",
       "      <td>Dead by Daylight</td>\n",
       "      <td>16208206.0</td>\n",
       "      <td>355.0</td>\n",
       "      <td>NaN</td>\n",
       "      <td>22537.0</td>\n",
       "      <td>33748</td>\n",
       "      <td>49479</td>\n",
       "      <td>105093</td>\n",
       "    </tr>\n",
       "    <tr>\n",
       "      <th>2</th>\n",
       "      <td>Apex Legends</td>\n",
       "      <td>29694408.0</td>\n",
       "      <td>274.0</td>\n",
       "      <td>437570.0</td>\n",
       "      <td>41290.0</td>\n",
       "      <td>245408</td>\n",
       "      <td>351055</td>\n",
       "      <td>624473</td>\n",
       "    </tr>\n",
       "  </tbody>\n",
       "</table>\n",
       "</div>"
      ],
      "text/plain": [
       "                 Jogo  Viewer Hours  Avg Live Channels  Peak Viewers  \\\n",
       "0  Grand Theft Auto V   125977774.0              712.0      443595.0   \n",
       "1    Dead by Daylight    16208206.0              355.0           NaN   \n",
       "2        Apex Legends    29694408.0              274.0      437570.0   \n",
       "\n",
       "   Avg Viewers jogadores_at_moment 24h_peek all-time_peak  \n",
       "0     175050.0              121265   172179        364548  \n",
       "1      22537.0               33748    49479        105093  \n",
       "2      41290.0              245408   351055        624473  "
      ]
     },
     "execution_count": 20,
     "metadata": {},
     "output_type": "execute_result"
    }
   ],
   "source": [
    "df_merge = df_twitch.sort_values(by=\"Avg Live Channels\", ascending=False).head(10).merge(df_steam,on='Jogo', how ='inner')\n",
    "df_merge"
   ]
  },
  {
   "cell_type": "code",
   "execution_count": 21,
   "id": "5a000f19",
   "metadata": {},
   "outputs": [],
   "source": [
    "cores = [\"#8179AF\",\"#38A3A5\",\"#255056\",\"#2F4858\",\"#A3586D\"]\n",
    "plt.rcParams[\"axes.prop_cycle\"] = plt.cycler(\n",
    "    color=cores)"
   ]
  },
  {
   "cell_type": "code",
   "execution_count": 22,
   "id": "c1704d9d",
   "metadata": {},
   "outputs": [
    {
     "data": {
      "image/png": "[encoded data removed]",
      "text/plain": [
       "<Figure size 1000x600 with 1 Axes>"
      ]
     },
     "metadata": {},
     "output_type": "display_data"
    }
   ],
   "source": [
    "df = df_steam.sort_values(by=\"jogadores_at_moment\", ascending = False)\n",
    "fig1, ax1 = plt.subplots(figsize=(10, 6))\n",
    "ax1.bar(df['Jogo'].head(5), df['jogadores_at_moment'].head(5), color = cores)\n",
    "ax1.set_title(\"Jogadores no momento (Descrescente)\")\n",
    "ax1.set_xlabel(\"Product\")\n",
    "ax1.set_ylabel(\"Sales\")\n",
    "plt.show()"
   ]
  },
  {
   "cell_type": "code",
   "execution_count": 23,
   "id": "1641f2e8",
   "metadata": {},
   "outputs": [
    {
     "data": {
      "image/png": "[encoded data removed]",
      "text/plain": [
       "<Figure size 640x480 with 1 Axes>"
      ]
     },
     "metadata": {},
     "output_type": "display_data"
    }
   ],
   "source": [
    "df = df_twitch.sort_values(by=\"Viewer Hours\", ascending=False)\n",
    "fig2, ax2 = plt.subplots()\n",
    "ax2.barh(df['Jogo'].head(5), df['Viewer Hours'].head(5), color = cores)\n",
    "ax2.set_title(\"Categorias mais assistidas\")\n",
    "ax2.set_xlabel(\"Viewer/h\")\n",
    "ax2.set_ylabel(\"Categoria\")\n",
    "plt.show()"
   ]
  },
  {
   "cell_type": "code",
   "execution_count": 24,
   "id": "5912bce1",
   "metadata": {},
   "outputs": [
    {
     "data": {
      "text/plain": [
       "Text(0.5, 1.0, 'Game \\n all time peak')"
      ]
     },
     "execution_count": 24,
     "metadata": {},
     "output_type": "execute_result"
    },
    {
     "data": {
      "image/png": "[encoded data removed]",
      "text/plain": [
       "<Figure size 640x480 with 1 Axes>"
      ]
     },
     "metadata": {},
     "output_type": "display_data"
    }
   ],
   "source": [
    "df = df_steam.sort_values(by=\"all-time_peak\", ascending=False)\n",
    "fig3, ax3 = plt.subplots()\n",
    "ax3.pie(df['all-time_peak'].head(5), labels=df['Jogo'].head(5), autopct='%1.1f%%')\n",
    "ax3.set_title(\"Game \\n all time peak\")"
   ]
  },
  {
   "cell_type": "code",
   "execution_count": 25,
   "id": "e33b32e3",
   "metadata": {},
   "outputs": [
    {
     "data": {
      "text/plain": [
       "[<matplotlib.lines.Line2D at 0x1d219f314d0>]"
      ]
     },
     "execution_count": 25,
     "metadata": {},
     "output_type": "execute_result"
    },
    {
     "data": {
      "image/png": "[encoded data removed]",
      "text/plain": [
       "<Figure size 640x480 with 1 Axes>"
      ]
     },
     "metadata": {},
     "output_type": "display_data"
    }
   ],
   "source": [
    "df = df_twitch.dropna()\n",
    "\n",
    "(a, b) = np.polyfit(x, y, deg = 1)\n",
    "x = np.arange(0,1500,1\t)\n",
    "y = a*x+b\n",
    "\n",
    "fig4, ax4 = plt.subplots()\n",
    "ax4.plot(df['Avg Live Channels'].astype(float),df['Avg Viewers'].astype(float),'.')\n",
    "ax4.set_title(\"Viewrs per Channels\")\n",
    "ax4.set_xlabel(\"Média de Lives\")\n",
    "ax4.set_ylabel(\"Média de Espectadores\")\n",
    "plt.plot(x,y,'r')"
   ]
  },
  {
   "cell_type": "code",
   "execution_count": 26,
   "id": "75577d11",
   "metadata": {},
   "outputs": [
    {
     "data": {
      "text/plain": [
       "0.35316526204392207"
      ]
     },
     "execution_count": 26,
     "metadata": {},
     "output_type": "execute_result"
    }
   ],
   "source": [
    "df_merge = df_twitch.merge(df_steam,on='Jogo', how ='inner')\n",
    "df_merge['Viewer Hours'].astype(float).corr(df_merge['jogadores_at_moment'].astype(float))"
   ]
  },
  {
   "cell_type": "code",
   "execution_count": 27,
   "id": "0ec6434f",
   "metadata": {},
   "outputs": [
    {
     "name": "stdout",
     "output_type": "stream",
     "text": [
      "[<matplotlib.lines.Line2D object at 0x000001D219D97910>]\n"
     ]
    },
    {
     "data": {
      "image/png": "[encoded data removed]",
      "text/plain": [
       "<Figure size 640x480 with 1 Axes>"
      ]
     },
     "metadata": {},
     "output_type": "display_data"
    }
   ],
   "source": [
    "df = df_merge\n",
    "x = df_merge['jogadores_at_moment']\n",
    "y = df_merge['Viewer Hours']\n",
    "\n",
    "plt.xlabel(\"Jogadores no Momento\")\n",
    "plt.ylabel(\"Views per Hours\")\n",
    "\n",
    "print(plt.plot(x,y,'.'))"
   ]
  }
 ],
 "metadata": {
  "kernelspec": {
   "display_name": "Python 3 (ipykernel)",
   "language": "python",
   "name": "python3"
  },
  "language_info": {
   "codemirror_mode": {
    "name": "ipython",
    "version": 3
   },
   "file_extension": ".py",
   "mimetype": "text/x-python",
   "name": "python",
   "nbconvert_exporter": "python",
   "pygments_lexer": "ipython3",
   "version": "3.11.3"
  }
 },
 "nbformat": 4,
 "nbformat_minor": 5
}
